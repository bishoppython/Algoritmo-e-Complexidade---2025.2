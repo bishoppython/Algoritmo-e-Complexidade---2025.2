{
  "nbformat": 4,
  "nbformat_minor": 0,
  "metadata": {
    "colab": {
      "provenance": []
    },
    "kernelspec": {
      "name": "python3",
      "display_name": "Python 3"
    },
    "language_info": {
      "name": "python"
    }
  },
  "cells": [
    {
      "cell_type": "markdown",
      "source": [
        "# *ALGORITMOS E COMPLEXIDADE - AULA 02 - RECURSIVIDADE*"
      ],
      "metadata": {
        "id": "9gIKBGiooyDs"
      }
    },
    {
      "cell_type": "markdown",
      "source": [
        "#### Função recursiva que inverte uma string\n",
        "\n",
        "```\n",
        "Inverte uma string de forma recursiva.\n",
        "\n",
        "Parâmetros:\n",
        "    s (str): string a ser invertida\n",
        "\n",
        "Retorno:\n",
        "    str: string invertida\n",
        "```\n",
        "\n"
      ],
      "metadata": {
        "id": "lA2ZoswbA4Zw"
      }
    },
    {
      "cell_type": "code",
      "source": [
        "def inverter_string(s):\n",
        "\n",
        "    # Caso base: string vazia ou com um caractere já está invertida\n",
        "    if len(s) <= 1:\n",
        "        return s\n",
        "\n",
        "    # Passo recursivo:\n",
        "    # inverte o restante da string e adiciona o primeiro caractere no final\n",
        "    return inverter_string(s[1:]) + s[0]\n",
        "\n",
        "\n",
        "# Testando a função\n",
        "texto = \"algoritmos\"\n",
        "print(f\"Original: {texto}\")\n",
        "print(f\"Invertida: {inverter_string(texto)}\")  # Deve retornar \"somtirgla\""
      ],
      "metadata": {
        "colab": {
          "base_uri": "https://localhost:8080/"
        },
        "id": "NMRNcsln6Xwe",
        "outputId": "d8eabdd6-1992-498a-efeb-a9b958ebe574"
      },
      "execution_count": null,
      "outputs": [
        {
          "output_type": "stream",
          "name": "stdout",
          "text": [
            "Original: algoritmos\n",
            "Invertida: somtirogla\n"
          ]
        }
      ]
    },
    {
      "cell_type": "markdown",
      "source": [
        "✅ Explicação:\n",
        "\n",
        "Se a string tiver 1 ou 0 caracteres, já está invertida.\n",
        "\n",
        "Caso contrário, a função inverte o restante (s[1:]) e adiciona o primeiro caractere (s[0]) no final."
      ],
      "metadata": {
        "id": "dDQRamFICVxS"
      }
    },
    {
      "cell_type": "markdown",
      "source": [
        "### **Resolver a Torre de Hanoi com 4 discos**\n",
        "\n",
        "A Torre de Hanoi é um problema clássico de recursividade.\n",
        "Regras:\n",
        "\n",
        "Mover apenas um disco por vez.\n",
        "\n",
        "Um disco maior nunca pode ficar sobre um menor.\n",
        "\n",
        "Solução recursiva:\n",
        "\n",
        "Para mover n discos da torre A para C usando B como auxiliar:\n",
        "\n",
        "Mover n-1 discos de A para B.\n",
        "\n",
        "Mover o último disco de A para C.\n",
        "\n",
        "Mover os n-1 discos de B para C."
      ],
      "metadata": {
        "id": "gZe7BlpyHk1G"
      }
    },
    {
      "cell_type": "code",
      "source": [
        "def hanoi(n, origem, destino, auxiliar):\n",
        "    \"\"\"\n",
        "    Resolve o problema da Torre de Hanoi de forma recursiva.\n",
        "\n",
        "    Parâmetros:\n",
        "        n (int): número de discos\n",
        "        origem (str): pino de origem\n",
        "        destino (str): pino de destino\n",
        "        auxiliar (str): pino auxiliar\n",
        "\n",
        "    Retorno:\n",
        "        None (apenas imprime os movimentos)\n",
        "    \"\"\"\n",
        "\n",
        "    # Caso base: apenas um disco\n",
        "    if n == 1:\n",
        "        print(f\"Mover disco 1 de {origem} para {destino}\")\n",
        "        return\n",
        "\n",
        "    # Passo recursivo:\n",
        "    # 1. Move n-1 discos da origem para o auxiliar\n",
        "    hanoi(n-1, origem, auxiliar, destino)\n",
        "\n",
        "    # 2. Move o disco maior da origem para o destino\n",
        "    print(f\"Mover disco {n} de {origem} para {destino}\")\n",
        "\n",
        "    # 3. Move n-1 discos do auxiliar para o destino\n",
        "    hanoi(n-1, auxiliar, destino, origem)\n",
        "\n",
        "\n",
        "# Testando com 4 discos\n",
        "hanoi(4, \"A\", \"C\", \"B\")"
      ],
      "metadata": {
        "id": "qR7edIFHBBJi",
        "colab": {
          "base_uri": "https://localhost:8080/"
        },
        "outputId": "ef5361f3-be3f-4136-cd73-ec221e496ea2"
      },
      "execution_count": null,
      "outputs": [
        {
          "output_type": "stream",
          "name": "stdout",
          "text": [
            "Mover disco 1 de A para B\n",
            "Mover disco 2 de A para C\n",
            "Mover disco 1 de B para C\n",
            "Mover disco 3 de A para B\n",
            "Mover disco 1 de C para A\n",
            "Mover disco 2 de C para B\n",
            "Mover disco 1 de A para B\n",
            "Mover disco 4 de A para C\n",
            "Mover disco 1 de B para C\n",
            "Mover disco 2 de B para A\n",
            "Mover disco 1 de C para A\n",
            "Mover disco 3 de B para C\n",
            "Mover disco 1 de A para B\n",
            "Mover disco 2 de A para C\n",
            "Mover disco 1 de B para C\n"
          ]
        }
      ]
    },
    {
      "cell_type": "code",
      "source": [],
      "metadata": {
        "id": "VB8qOqoXHqiO"
      },
      "execution_count": null,
      "outputs": []
    }
  ]
}