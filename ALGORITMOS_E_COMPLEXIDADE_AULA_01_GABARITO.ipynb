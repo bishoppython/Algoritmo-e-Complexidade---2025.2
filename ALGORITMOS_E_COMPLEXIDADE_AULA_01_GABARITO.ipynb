{
  "nbformat": 4,
  "nbformat_minor": 0,
  "metadata": {
    "colab": {
      "provenance": []
    },
    "kernelspec": {
      "name": "python3",
      "display_name": "Python 3"
    },
    "language_info": {
      "name": "python"
    }
  },
  "cells": [
    {
      "cell_type": "markdown",
      "source": [
        "# AULA 01"
      ],
      "metadata": {
        "id": "RqCfQEJITRPX"
      }
    },
    {
      "cell_type": "markdown",
      "source": [
        "## Funções, Modularização e Reutilização de Código em Python"
      ],
      "metadata": {
        "id": "27dbpFesTufB"
      }
    },
    {
      "cell_type": "markdown",
      "source": [
        "### Atividade – Potências e Raiz com Funções\n",
        "### Objetivo\n",
        "Praticar a criação e reutilização de funções para evitar repetição de código."
      ],
      "metadata": {
        "id": "U2dn0RdyTf-Q"
      }
    },
    {
      "cell_type": "code",
      "execution_count": null,
      "metadata": {
        "colab": {
          "base_uri": "https://localhost:8080/"
        },
        "id": "P1TuScxNTAaP",
        "outputId": "068aba2f-73fc-4baf-c7b7-8c7aafed6d85"
      },
      "outputs": [
        {
          "output_type": "stream",
          "name": "stdout",
          "text": [
            "Digite um número: 10\n",
            "Quadrado de 10.0 = 100.0\n",
            "Cubo de 10.0 = 1000.0\n",
            "Raiz quadrada de 10.0 = 3.16\n",
            "------------------------------\n",
            "Digite um número: 150\n",
            "Quadrado de 150.0 = 22500.0\n",
            "Cubo de 150.0 = 3375000.0\n",
            "Raiz quadrada de 150.0 = 12.25\n",
            "------------------------------\n",
            "Digite um número: 33\n",
            "Quadrado de 33.0 = 1089.0\n",
            "Cubo de 33.0 = 35937.0\n",
            "Raiz quadrada de 33.0 = 5.74\n",
            "------------------------------\n"
          ]
        }
      ],
      "source": [
        "import math  # Para usar sqrt (raiz quadrada)\n",
        "\n",
        "# Funções\n",
        "def calcular_quadrado(numero):\n",
        "    return numero ** 2\n",
        "\n",
        "def calcular_cubo(numero):\n",
        "    return numero ** 3\n",
        "\n",
        "def calcular_raiz(numero):\n",
        "    return math.sqrt(numero)\n",
        "\n",
        "# Programa principal\n",
        "for _ in range(3):  # repete 3 vezes\n",
        "    valor = float(input(\"Digite um número: \"))\n",
        "    print(f\"Quadrado de {valor} = {calcular_quadrado(valor)}\")\n",
        "    print(f\"Cubo de {valor} = {calcular_cubo(valor)}\")\n",
        "    print(f\"Raiz quadrada de {valor} = {calcular_raiz(valor):.2f}\")\n",
        "    print(\"-\" * 30)"
      ]
    },
    {
      "cell_type": "markdown",
      "source": [
        "Como funciona\n",
        "Cada operação matemática está isolada em uma função.\n",
        "\n",
        "O laço for chama as funções conforme necessário.\n",
        "\n",
        "Podemos alterar a lógica de uma função sem mexer no resto do código.\n",
        "\n",
        "Sugestão de Desafio para os alunos\n",
        "Adicionar mais uma função que calcule potência de base n informada pelo usuário.\n",
        "\n",
        "Fazer um menu para o usuário escolher qual operação quer fazer."
      ],
      "metadata": {
        "id": "2fLPBBdYTpuR"
      }
    },
    {
      "cell_type": "markdown",
      "source": [
        "Atividade\n",
        "### Criar um programa modularizado, usando funções, para realizar cálculos matemáticos sobre números fornecidos pelo usuário."
      ],
      "metadata": {
        "id": "0ndR8GXvT2Ys"
      }
    },
    {
      "cell_type": "code",
      "source": [],
      "metadata": {
        "id": "q0SEYHxNTZyS"
      },
      "execution_count": null,
      "outputs": []
    },
    {
      "cell_type": "markdown",
      "source": [
        "***Descrição:***\n",
        "Você deve criar um programa em Python que:\n",
        "\n",
        "1. Solicite ao usuário um número real.\n",
        "\n",
        "2. Ofereça um menu interativo com as seguintes opções:\n",
        "\n",
        "    2.1 Calcular o quadrado do número.\n",
        "\n",
        "    2.2 Calcular o cubo do número.\n",
        "\n",
        "    2.3 Calcular a raiz quadrada do número.\n",
        "\n",
        "    2.4 Calcular a potência do número para um expoente informado pelo usuário.\n",
        "\n",
        "    2.5 Sair do programa.\n",
        "\n",
        "3. Execute a operação escolhida usando funções para cada cálculo.\n",
        "\n",
        "4. Permita que o usuário repita o processo até decidir sair.\n",
        "\n",
        "***Regras:***\n",
        "\n",
        "* Cada operação matemática deve estar implementada em uma função separada.\n",
        "* O menu deve se repetir até o usuário escolher Sair.\n",
        "* A função da potência deve receber dois parâmetros: base e expoente.\n",
        "* O programa deve ser claro e fácil de ler.\n",
        "\n",
        "***Sugestão de Funções***\n",
        "\n",
        "* calcular_quadrado(numero)\n",
        "\n",
        "* calcular_cubo(numero)\n",
        "\n",
        "* calcular_raiz(numero)\n",
        "\n",
        "* calcular_potencia(base, expoente)\n",
        "\n",
        "![image.png](data:image/png;base64,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)\n"
      ],
      "metadata": {
        "id": "cBCeb-SdT-jW"
      }
    },
    {
      "cell_type": "code",
      "source": [
        "import math\n",
        "\n",
        "def calcular_quadrado(numero):\n",
        "    return numero ** 2\n",
        "\n",
        "def calcular_cubo(numero):\n",
        "    return numero ** 3\n",
        "\n",
        "def calcular_raiz(numero):\n",
        "    return math.sqrt(numero)\n",
        "\n",
        "def calcular_potencia(base, expoente):\n",
        "    return base ** expoente\n",
        "\n",
        "# Programa principal\n",
        "while True:\n",
        "    numero = float(input(\"\\nDigite um número: \"))\n",
        "\n",
        "    print(\"\\nEscolha uma opção:\")\n",
        "    print(\"1 - Calcular quadrado\")\n",
        "    print(\"2 - Calcular cubo\")\n",
        "    print(\"3 - Calcular raiz quadrada\")\n",
        "    print(\"4 - Calcular potência com expoente escolhido\")\n",
        "    print(\"5 - Sair\")\n",
        "\n",
        "    opcao = input(\"Opção: \")\n",
        "\n",
        "    if opcao == \"1\":\n",
        "        print(f\"Quadrado de {numero} = {calcular_quadrado(numero)}\")\n",
        "    elif opcao == \"2\":\n",
        "        print(f\"Cubo de {numero} = {calcular_cubo(numero)}\")\n",
        "    elif opcao == \"3\":\n",
        "        print(f\"Raiz quadrada de {numero} = {calcular_raiz(numero):.2f}\")\n",
        "    elif opcao == \"4\":\n",
        "        exp = float(input(\"Digite o expoente: \"))\n",
        "        print(f\"{numero} elevado a {exp} = {calcular_potencia(numero, exp)}\")\n",
        "    elif opcao == \"5\":\n",
        "        print(\"Encerrando o programa...\")\n",
        "        break\n",
        "    else:\n",
        "        print(\"Opção inválida! Tente novamente.\")"
      ],
      "metadata": {
        "id": "xlfrj_DDT_QC"
      },
      "execution_count": null,
      "outputs": []
    }
  ]
}