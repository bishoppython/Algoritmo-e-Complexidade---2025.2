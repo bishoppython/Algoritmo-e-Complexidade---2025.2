{
  "nbformat": 4,
  "nbformat_minor": 0,
  "metadata": {
    "colab": {
      "provenance": [],
      "authorship_tag": "ABX9TyNJQHl3uu0rhKdrUsXf6Bai",
      "include_colab_link": true
    },
    "kernelspec": {
      "name": "python3",
      "display_name": "Python 3"
    },
    "language_info": {
      "name": "python"
    }
  },
  "cells": [
    {
      "cell_type": "markdown",
      "metadata": {
        "id": "view-in-github",
        "colab_type": "text"
      },
      "source": [
        "<a href=\"https://colab.research.google.com/github/bishoppython/Algoritmo-e-Complexidade---2025.2/blob/main/Aula_03_WebScraping_Selenium.ipynb\" target=\"_parent\"><img src=\"https://colab.research.google.com/assets/colab-badge.svg\" alt=\"Open In Colab\"/></a>"
      ]
    },
    {
      "cell_type": "markdown",
      "source": [
        "## ***WebScraping - Algoritmos e Complexidades***\n",
        "### **Selenium - Aula 03**"
      ],
      "metadata": {
        "id": "GyshVq4ITf8l"
      }
    },
    {
      "cell_type": "markdown",
      "source": [
        "### **O que é Selenium?**\n",
        "O Selenium é um projeto de código aberto (open-source) que consiste em um conjunto de ferramentas e bibliotecas que permitem a automatização de navegadores web.\n",
        "\n",
        "Em termos mais simples, o Selenium é um \"robô\" que você programa para controlar um navegador (como Chrome, Firefox, Edge, etc.) exatamente como um ser humano faria, mas de forma automatizada, rápida e repetitiva.\n",
        "\n",
        "**O projeto Selenium é composto por vários componentes, mas os principais são:**\n",
        "\n",
        "**Selenium WebDriver:** É o coração do Selenium moderno. Ele é uma API que permite que você escreva comandos em uma linguagem de programação (Java, Python, C#, JavaScript, Ruby, etc.) para interagir com elementos em uma página web (clicar em botões, preencher formulários, extrair textos, etc.). O WebDriver comunica-se diretamente com o navegador, sem necessidade de um servidor intermediário.\n",
        "\n",
        "**Selenium IDE (Integrated Development Environment):** É uma extensão para navegadores que permite gravar e reproduzir interações com o site. É ótimo para criar scripts simples de automação sem precisar escrever código, ideal para iniciantes ou para testes rápidos.\n",
        "\n",
        "**Selenium Grid:** Permite executar seus testes em várias máquinas e navegadores diferentes ao mesmo tempo. É usado para testes em paralelo, acelerando a execução e permitindo verificar a compatibilidade do seu site com diferentes versões de navegadores e sistemas operacionais."
      ],
      "metadata": {
        "id": "XbrsjfnfTgSS"
      }
    },
    {
      "cell_type": "markdown",
      "source": [
        "### ***Para que utilizar o Selenium?***\n",
        "O Selenium é primariamente utilizado para Automação de Testes de aplicações web, mas sua utilidade vai além. Aqui estão os principais usos:\n",
        "\n",
        "***1. Automação de Testes (Principal uso)***\n",
        "Testes de Regressão: Verificar se novas funcionalidades ou correções não quebraram funcionalidades existentes no sistema.\n",
        "\n",
        "Testes Funcionais: Validar se as funcionalidades do site (como login, cadastro, compra) estão funcionando conforme o esperado.\n",
        "\n",
        "Testes de Aceitação: Simular a jornada de um usuário real para validar se o sistema atende aos requisitos de negócio.\n",
        "\n",
        "Testes Cross-Browser e Cross-Platform: Garantir que o site funcione corretamente em diferentes combinações de navegadores (Chrome, Firefox, Safari) e sistemas operacionais (Windows, macOS, Linux).\n",
        "\n",
        "***2. Web Scraping / Extração de Dados***\n",
        "Como o Selenium pode renderizar páginas web completas (incluindo conteúdo carregado dinamicamente com JavaScript), ele é uma ferramenta poderosa para extrair dados de sites complexos que não podem ser acessados por métodos mais simples (como bibliotecas requests e BeautifulSoup sozinhas no Python).\n",
        "\n",
        "***3. Automação de Tarefas Repetitivas***\n",
        "Você pode usar o Selenium para automatizar qualquer tarefa tediosa que faria manualmente em um navegador, como:\n",
        "\n",
        "Preencher automaticamente vários formulários online.\n",
        "\n",
        "Realizar monitoramento de preços em sites de e-commerce.\n",
        "\n",
        "Fazer upload ou download massivo de arquivos em um sistema web.\n",
        "\n",
        "Publicar conteúdo em redes sociais ou plataformas de forma automatizada."
      ],
      "metadata": {
        "id": "5EORVv70UGr4"
      }
    },
    {
      "cell_type": "markdown",
      "source": [
        "#### **Vantagens do Selenium**\n",
        "\n",
        "**Gratuito e Open-Source: **Não há custos de licença.\n",
        "\n",
        "**Multi-linguagem:** Suporte a Java, Python, C#, Ruby, JavaScript, etc.\n",
        "\n",
        "**Multi-navegador:** Funciona com Chrome, Firefox, Edge, Safari, Opera, entre outros.\n",
        "\n",
        "**Grande Comunidade:** Muitos tutoriais, fóruns e recursos online disponíveis.\n",
        "\n",
        "**Flexibilidade:** Pode ser integrado com frameworks de teste (como JUnit, TestNG, pytest) e ferramentas de CI/CD (como Jenkins, GitLab CI).\n",
        "\n",
        "#### **Limitações do Selenium**\n",
        "\n",
        "**Apenas para Aplicações Web:** Não automatiza aplicações desktop ou mobile (para mobile, existe o Appium, que é inspirado no Selenium).\n",
        "\n",
        "**Não automatiza CAPTCHAs ou autenticações de dois fatores (2FA):** Esses mecanismos são projetados justamente para impedir bots.\n",
        "\n",
        "**Pode ser \"frágil\":** Se a estrutura HTML da página mudar (ex: a id de um botão é alterada), seu script de automação pode quebrar e precisará ser ajustado.\n",
        "\n",
        "**Consome Recursos:** Abrir múltiplos navegadores consome memória RAM e CPU."
      ],
      "metadata": {
        "id": "9uVNhyNyUXhp"
      }
    },
    {
      "cell_type": "markdown",
      "source": [
        "## **1. Scraping estático com Requests + BeautifulSoup (rápido)**\n",
        "\n",
        "Usaremos http://books.toscrape.com/ — seguro para testes."
      ],
      "metadata": {
        "id": "mzA5bvMG0FLg"
      }
    },
    {
      "cell_type": "code",
      "execution_count": 1,
      "metadata": {
        "colab": {
          "base_uri": "https://localhost:8080/"
        },
        "id": "Tn0yOewPwiog",
        "outputId": "410c43e4-b622-4549-af3c-d26a00040e45"
      },
      "outputs": [
        {
          "output_type": "stream",
          "name": "stdout",
          "text": [
            "salvo em books.csv\n"
          ]
        }
      ],
      "source": [
        "import requests\n",
        "from bs4 import BeautifulSoup\n",
        "import csv\n",
        "\n",
        "BASE = \"http://books.toscrape.com/\"\n",
        "\n",
        "resp = requests.get(BASE)\n",
        "resp.raise_for_status()  # lança erro se status != 200\n",
        "\n",
        "soup = BeautifulSoup(resp.text, \"lxml\")\n",
        "\n",
        "# cada livro está na classe 'product_pod'\n",
        "books = soup.select(\".product_pod\")\n",
        "\n",
        "rows = []\n",
        "for b in books:\n",
        "    title = b.h3.a[\"title\"]\n",
        "    price = b.select_one(\".price_color\").text.strip()\n",
        "    link = BASE + b.h3.a[\"href\"]\n",
        "    rows.append({\"title\": title, \"price\": price, \"link\": link})\n",
        "\n",
        "# salvar em CSV\n",
        "import pandas as pd\n",
        "df = pd.DataFrame(rows)\n",
        "df.to_csv(\"books.csv\", index=False, encoding=\"utf-8-sig\")\n",
        "print(\"salvo em books.csv\")"
      ]
    },
    {
      "cell_type": "markdown",
      "source": [
        "**Desafio de Tópicos extra:** paginação (seguir | next), tratar links relativos, retries."
      ],
      "metadata": {
        "id": "4inwJ2of0WcY"
      }
    },
    {
      "cell_type": "markdown",
      "source": [
        "## **2. Selenium: configuração básica com webdriver-manager e abertura do Chrome**"
      ],
      "metadata": {
        "id": "BU8HEuZ30iuk"
      }
    },
    {
      "cell_type": "code",
      "source": [
        "!pip install requests beautifulsoup4 lxml selenium webdriver-manager pandas"
      ],
      "metadata": {
        "colab": {
          "base_uri": "https://localhost:8080/"
        },
        "id": "3bLPR0oE2YDS",
        "outputId": "2ee05b89-8620-4cab-c142-b08a7e1348f8"
      },
      "execution_count": 3,
      "outputs": [
        {
          "output_type": "stream",
          "name": "stdout",
          "text": [
            "Requirement already satisfied: requests in /usr/local/lib/python3.12/dist-packages (2.32.4)\n",
            "Requirement already satisfied: beautifulsoup4 in /usr/local/lib/python3.12/dist-packages (4.13.5)\n",
            "Requirement already satisfied: lxml in /usr/local/lib/python3.12/dist-packages (5.4.0)\n",
            "Collecting selenium\n",
            "  Downloading selenium-4.35.0-py3-none-any.whl.metadata (7.4 kB)\n",
            "Collecting webdriver-manager\n",
            "  Downloading webdriver_manager-4.0.2-py2.py3-none-any.whl.metadata (12 kB)\n",
            "Requirement already satisfied: pandas in /usr/local/lib/python3.12/dist-packages (2.2.2)\n",
            "Requirement already satisfied: charset_normalizer<4,>=2 in /usr/local/lib/python3.12/dist-packages (from requests) (3.4.3)\n",
            "Requirement already satisfied: idna<4,>=2.5 in /usr/local/lib/python3.12/dist-packages (from requests) (3.10)\n",
            "Requirement already satisfied: urllib3<3,>=1.21.1 in /usr/local/lib/python3.12/dist-packages (from requests) (2.5.0)\n",
            "Requirement already satisfied: certifi>=2017.4.17 in /usr/local/lib/python3.12/dist-packages (from requests) (2025.8.3)\n",
            "Requirement already satisfied: soupsieve>1.2 in /usr/local/lib/python3.12/dist-packages (from beautifulsoup4) (2.8)\n",
            "Requirement already satisfied: typing-extensions>=4.0.0 in /usr/local/lib/python3.12/dist-packages (from beautifulsoup4) (4.15.0)\n",
            "Collecting trio~=0.30.0 (from selenium)\n",
            "  Downloading trio-0.30.0-py3-none-any.whl.metadata (8.5 kB)\n",
            "Collecting trio-websocket~=0.12.2 (from selenium)\n",
            "  Downloading trio_websocket-0.12.2-py3-none-any.whl.metadata (5.1 kB)\n",
            "Collecting typing-extensions>=4.0.0 (from beautifulsoup4)\n",
            "  Downloading typing_extensions-4.14.1-py3-none-any.whl.metadata (3.0 kB)\n",
            "Requirement already satisfied: websocket-client~=1.8.0 in /usr/local/lib/python3.12/dist-packages (from selenium) (1.8.0)\n",
            "Requirement already satisfied: python-dotenv in /usr/local/lib/python3.12/dist-packages (from webdriver-manager) (1.1.1)\n",
            "Requirement already satisfied: packaging in /usr/local/lib/python3.12/dist-packages (from webdriver-manager) (25.0)\n",
            "Requirement already satisfied: numpy>=1.26.0 in /usr/local/lib/python3.12/dist-packages (from pandas) (2.0.2)\n",
            "Requirement already satisfied: python-dateutil>=2.8.2 in /usr/local/lib/python3.12/dist-packages (from pandas) (2.9.0.post0)\n",
            "Requirement already satisfied: pytz>=2020.1 in /usr/local/lib/python3.12/dist-packages (from pandas) (2025.2)\n",
            "Requirement already satisfied: tzdata>=2022.7 in /usr/local/lib/python3.12/dist-packages (from pandas) (2025.2)\n",
            "Requirement already satisfied: six>=1.5 in /usr/local/lib/python3.12/dist-packages (from python-dateutil>=2.8.2->pandas) (1.17.0)\n",
            "Requirement already satisfied: attrs>=23.2.0 in /usr/local/lib/python3.12/dist-packages (from trio~=0.30.0->selenium) (25.3.0)\n",
            "Requirement already satisfied: sortedcontainers in /usr/local/lib/python3.12/dist-packages (from trio~=0.30.0->selenium) (2.4.0)\n",
            "Collecting outcome (from trio~=0.30.0->selenium)\n",
            "  Downloading outcome-1.3.0.post0-py2.py3-none-any.whl.metadata (2.6 kB)\n",
            "Requirement already satisfied: sniffio>=1.3.0 in /usr/local/lib/python3.12/dist-packages (from trio~=0.30.0->selenium) (1.3.1)\n",
            "Collecting wsproto>=0.14 (from trio-websocket~=0.12.2->selenium)\n",
            "  Downloading wsproto-1.2.0-py3-none-any.whl.metadata (5.6 kB)\n",
            "Requirement already satisfied: pysocks!=1.5.7,<2.0,>=1.5.6 in /usr/local/lib/python3.12/dist-packages (from urllib3[socks]<3.0,>=2.5.0->selenium) (1.7.1)\n",
            "Requirement already satisfied: h11<1,>=0.9.0 in /usr/local/lib/python3.12/dist-packages (from wsproto>=0.14->trio-websocket~=0.12.2->selenium) (0.16.0)\n",
            "Downloading selenium-4.35.0-py3-none-any.whl (9.6 MB)\n",
            "\u001b[2K   \u001b[90m━━━━━━━━━━━━━━━━━━━━━━━━━━━━━━━━━━━━━━━━\u001b[0m \u001b[32m9.6/9.6 MB\u001b[0m \u001b[31m68.0 MB/s\u001b[0m eta \u001b[36m0:00:00\u001b[0m\n",
            "\u001b[?25hDownloading webdriver_manager-4.0.2-py2.py3-none-any.whl (27 kB)\n",
            "Downloading trio-0.30.0-py3-none-any.whl (499 kB)\n",
            "\u001b[2K   \u001b[90m━━━━━━━━━━━━━━━━━━━━━━━━━━━━━━━━━━━━━━━━\u001b[0m \u001b[32m499.2/499.2 kB\u001b[0m \u001b[31m34.4 MB/s\u001b[0m eta \u001b[36m0:00:00\u001b[0m\n",
            "\u001b[?25hDownloading trio_websocket-0.12.2-py3-none-any.whl (21 kB)\n",
            "Downloading typing_extensions-4.14.1-py3-none-any.whl (43 kB)\n",
            "\u001b[2K   \u001b[90m━━━━━━━━━━━━━━━━━━━━━━━━━━━━━━━━━━━━━━━━\u001b[0m \u001b[32m43.9/43.9 kB\u001b[0m \u001b[31m3.2 MB/s\u001b[0m eta \u001b[36m0:00:00\u001b[0m\n",
            "\u001b[?25hDownloading outcome-1.3.0.post0-py2.py3-none-any.whl (10 kB)\n",
            "Downloading wsproto-1.2.0-py3-none-any.whl (24 kB)\n",
            "Installing collected packages: wsproto, typing-extensions, outcome, webdriver-manager, trio, trio-websocket, selenium\n",
            "  Attempting uninstall: typing-extensions\n",
            "    Found existing installation: typing_extensions 4.15.0\n",
            "    Uninstalling typing_extensions-4.15.0:\n",
            "      Successfully uninstalled typing_extensions-4.15.0\n",
            "Successfully installed outcome-1.3.0.post0 selenium-4.35.0 trio-0.30.0 trio-websocket-0.12.2 typing-extensions-4.14.1 webdriver-manager-4.0.2 wsproto-1.2.0\n"
          ]
        }
      ]
    },
    {
      "cell_type": "code",
      "source": [
        "from selenium import webdriver\n",
        "from selenium.webdriver.chrome.service import Service\n",
        "from webdriver_manager.chrome import ChromeDriverManager\n",
        "from selenium.webdriver.chrome.options import Options\n",
        "\n",
        "options = Options()\n",
        "# options.add_argument(\"--headless=new\")  # descomente para modo headless\n",
        "options.add_argument(\"--no-sandbox\")\n",
        "options.add_argument(\"--disable-dev-shm-usage\")\n",
        "\n",
        "driver = webdriver.Chrome(service=Service(ChromeDriverManager().install()), options=options)\n",
        "driver.get(\"https://books.toscrape.com/\")\n",
        "\n",
        "print(driver.title)\n",
        "driver.quit()"
      ],
      "metadata": {
        "id": "ytEO_hZj0dD8"
      },
      "execution_count": null,
      "outputs": []
    },
    {
      "cell_type": "markdown",
      "source": [
        "## **3. Selenium + BeautifulSoup para extrair dados de páginas que dependem de JS**\n",
        "Use Selenium para carregar a página, depois passe o HTML para BeautifulSoup (mais flexível para parsing):"
      ],
      "metadata": {
        "id": "8ccpOCqKHVNa"
      }
    },
    {
      "cell_type": "code",
      "source": [
        "from selenium import webdriver\n",
        "from selenium.webdriver.chrome.service import Service\n",
        "from webdriver_manager.chrome import ChromeDriverManager\n",
        "from selenium.webdriver.chrome.options import Options\n",
        "from bs4 import BeautifulSoup\n",
        "from selenium.webdriver.common.by import By\n",
        "from selenium.webdriver.support.ui import WebDriverWait\n",
        "from selenium.webdriver.support import expected_conditions as EC\n",
        "\n",
        "options = Options()\n",
        "options.add_argument(\"--headless=new\")\n",
        "driver = webdriver.Chrome(service=Service(ChromeDriverManager().install()), options=options)\n",
        "\n",
        "driver.get(\"https://example.com/pagina-dinamica\")\n",
        "\n",
        "# exemplo de explicit wait: espera até que um elemento esteja presente\n",
        "wait = WebDriverWait(driver, 10)\n",
        "wait.until(EC.presence_of_element_located((By.CSS_SELECTOR, \".classe-conteudo\")))\n",
        "\n",
        "html = driver.page_source\n",
        "soup = BeautifulSoup(html, \"lxml\")\n",
        "\n",
        "# parse normalmente\n",
        "items = soup.select(\".classe-conteudo .item\")\n",
        "for it in items:\n",
        "    print(it.get_text(strip=True))\n",
        "\n",
        "driver.quit()"
      ],
      "metadata": {
        "id": "UG76poGU0qtP"
      },
      "execution_count": null,
      "outputs": []
    },
    {
      "cell_type": "markdown",
      "source": [
        "#### **Prática 1 — Extração de dados (Projeto: Extração de manchetes)**\n",
        "Objetivo: Extrair título, link e resumo (quando disponível) das notícias principais de um site de notícias.\n",
        "Recomendação inicial: usar http://books.toscrape.com/ para entender pipeline; depois replicar em https://g1.globo.com/ com cuidado e respeitando TOS.\n",
        "\n",
        "***Código com Selenium + BeautifulSoup (robusto):***"
      ],
      "metadata": {
        "id": "q5Ip05xwVSeT"
      }
    },
    {
      "cell_type": "code",
      "source": [
        "import csv\n",
        "from selenium import webdriver\n",
        "from selenium.webdriver.chrome.service import Service\n",
        "from webdriver_manager.chrome import ChromeDriverManager\n",
        "from selenium.webdriver.chrome.options import Options\n",
        "from bs4 import BeautifulSoup\n",
        "from selenium.webdriver.common.by import By\n",
        "from selenium.webdriver.support.ui import WebDriverWait\n",
        "from selenium.webdriver.support import expected_conditions as EC\n",
        "import time\n",
        "\n",
        "options = Options()\n",
        "options.add_argument(\"--headless=new\")\n",
        "options.add_argument(\"--no-sandbox\")\n",
        "driver = webdriver.Chrome(service=Service(ChromeDriverManager().install()), options=options)\n",
        "\n",
        "try:\n",
        "    url = \"https://g1.globo.com/\"  # ou use books.toscrape.com para testes\n",
        "    driver.get(url)\n",
        "    wait = WebDriverWait(driver, 10)\n",
        "    # ajustar o seletor conforme o site real\n",
        "    wait.until(EC.presence_of_all_elements_located((By.CSS_SELECTOR, \"a.feed-post-link\")))\n",
        "\n",
        "    soup = BeautifulSoup(driver.page_source, \"lxml\")\n",
        "    manchetes = soup.select(\"a.feed-post-link\")\n",
        "\n",
        "    with open(\"manchetes.csv\", \"w\", newline=\"\", encoding=\"utf-8\") as f:\n",
        "        writer = csv.writer(f)\n",
        "        writer.writerow([\"titulo\", \"link\"])\n",
        "        for a in manchetes[:30]:\n",
        "            titulo = a.get_text(strip=True)\n",
        "            link = a.get(\"href\")\n",
        "            if link:\n",
        "                writer.writerow([titulo, link])\n",
        "\n",
        "    print(\"OK: manchetes.csv criado\")\n",
        "finally:\n",
        "    driver.quit()"
      ],
      "metadata": {
        "id": "j9yIDeC9V89Y"
      },
      "execution_count": null,
      "outputs": []
    },
    {
      "cell_type": "markdown",
      "source": [
        "**Atividades:**\n",
        "\n",
        "Adapte o seletor para pegar sumário, imagem e tempo de publicação.\n",
        "\n",
        "Implemente paginação (se houver botão “carregar mais” — use Selenium para clicar e esperar).\n",
        "\n",
        "Trate links relativos."
      ],
      "metadata": {
        "id": "rov5iXERWCWZ"
      }
    },
    {
      "cell_type": "markdown",
      "source": [
        "### ***Prática 2 — Bot de Login e Interação (site de teste seguro)***\n",
        "\n",
        "Objetivo: Criar um bot que faz login, navega em área autenticada e extrai/inserta informação.\n",
        "Site de teste recomendado: https://the-internet.herokuapp.com/login\n",
        "\n",
        "Usuário: tomsmith\n",
        "\n",
        "Senha: SuperSecretPassword!\n",
        "\n",
        "Código de exemplo:"
      ],
      "metadata": {
        "id": "rICDcoGwWRfi"
      }
    },
    {
      "cell_type": "code",
      "source": [
        "from selenium import webdriver\n",
        "from selenium.webdriver.chrome.service import Service\n",
        "from webdriver_manager.chrome import ChromeDriverManager\n",
        "from selenium.webdriver.chrome.options import Options\n",
        "from selenium.webdriver.common.by import By\n",
        "from selenium.webdriver.support.ui import WebDriverWait\n",
        "from selenium.webdriver.support import expected_conditions as EC\n",
        "import time\n",
        "\n",
        "options = Options()\n",
        "# options.add_argument(\"--headless=new\")\n",
        "driver = webdriver.Chrome(service=Service(ChromeDriverManager().install()), options=options)\n",
        "\n",
        "try:\n",
        "    driver.get(\"https://the-internet.herokuapp.com/login\")\n",
        "    wait = WebDriverWait(driver, 10)\n",
        "\n",
        "    # localizar campos\n",
        "    user_input = wait.until(EC.presence_of_element_located((By.ID, \"username\")))\n",
        "    pass_input = driver.find_element(By.ID, \"password\")\n",
        "\n",
        "    user_input.send_keys(\"tomsmith\")\n",
        "    pass_input.send_keys(\"SuperSecretPassword!\")\n",
        "\n",
        "    # clicar no botão de login\n",
        "    btn = driver.find_element(By.CSS_SELECTOR, \"button.radius\")\n",
        "    btn.click()\n",
        "\n",
        "    # esperar pela área autenticada\n",
        "    wait.until(EC.presence_of_element_located((By.CSS_SELECTOR, \".flash.success\")))\n",
        "    success_text = driver.find_element(By.CSS_SELECTOR, \".flash.success\").text\n",
        "    print(\"Login efetuado:\", success_text)\n",
        "\n",
        "    # exemplo: navegar para logout\n",
        "    driver.find_element(By.CSS_SELECTOR, \"a.button.secondary.radius\").click()\n",
        "    wait.until(EC.presence_of_element_located((By.ID, \"username\")))\n",
        "    print(\"Logout efetuado com sucesso.\")\n",
        "\n",
        "finally:\n",
        "    driver.quit()"
      ],
      "metadata": {
        "id": "kYh-gL4mWqt8"
      },
      "execution_count": null,
      "outputs": []
    },
    {
      "cell_type": "markdown",
      "source": [
        "**Extensões de exercício:**\n",
        "\n",
        "Capturar e salvar cookies (para persistir sessão entre execuções).\n",
        "\n",
        "Preencher um formulário após login e submeter.\n",
        "\n",
        "Implementar tratamento de erros (login inválido, elementos não encontrados).\n",
        "\n",
        "Implementar screenshot em caso de erro (driver.save_screenshot()).\n",
        "\n",
        "Atenção ética/legal: NÃO use automação para acessar contas de terceiros sem autorização. Use apenas contas de teste ou as suas."
      ],
      "metadata": {
        "id": "7IXEufyxWogD"
      }
    },
    {
      "cell_type": "markdown",
      "source": [
        "### **Conclusão**\n",
        "\n",
        "O Selenium é a ferramenta mais popular e poderosa para automação de navegadores. Se você precisa testar uma aplicação web, extrair dados de um site complexo ou automatizar um fluxo de trabalho baseado na web, o Selenium é provavelmente a solução ideal."
      ],
      "metadata": {
        "id": "14FpQA1aUyPB"
      }
    }
  ]
}